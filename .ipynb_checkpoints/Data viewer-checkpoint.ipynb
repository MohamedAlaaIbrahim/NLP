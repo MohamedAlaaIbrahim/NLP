{
 "cells": [
  {
   "cell_type": "code",
   "execution_count": 26,
   "id": "2c79bd98",
   "metadata": {},
   "outputs": [
    {
     "data": {
      "text/plain": [
       "'ربما كنت قد أطلقت صرخة ستجعله يشكك في رجولتي لبقية حياتنا.'"
      ]
     },
     "execution_count": 26,
     "metadata": {},
     "output_type": "execute_result"
    }
   ],
   "source": [
    "import pandas as pd\n",
    "\n",
    "df = pd.read_csv('F:/GUC/NLP/Temp/NLP-chatbot_draft_2/empatheticdialogues/arabic_valid.csv')\n",
    "df.iloc[3,3]\n",
    "#text 3\n",
    "#1"
   ]
  },
  {
   "cell_type": "code",
   "execution_count": null,
   "id": "7b884e4b",
   "metadata": {},
   "outputs": [],
   "source": []
  }
 ],
 "metadata": {
  "kernelspec": {
   "display_name": "Python 3",
   "language": "python",
   "name": "python3"
  },
  "language_info": {
   "codemirror_mode": {
    "name": "ipython",
    "version": 3
   },
   "file_extension": ".py",
   "mimetype": "text/x-python",
   "name": "python",
   "nbconvert_exporter": "python",
   "pygments_lexer": "ipython3",
   "version": "3.7.10"
  },
  "toc": {
   "base_numbering": 1,
   "nav_menu": {},
   "number_sections": true,
   "sideBar": true,
   "skip_h1_title": false,
   "title_cell": "Table of Contents",
   "title_sidebar": "Contents",
   "toc_cell": false,
   "toc_position": {},
   "toc_section_display": true,
   "toc_window_display": false
  }
 },
 "nbformat": 4,
 "nbformat_minor": 5
}
