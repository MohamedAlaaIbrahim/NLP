{
 "cells": [
  {
   "cell_type": "code",
   "execution_count": null,
   "id": "8a94531a",
   "metadata": {},
   "outputs": [],
   "source": [
    "# -*- coding: utf-8 -*-\n",
    "\"\"\"\n",
    "Created on Thu Jun  3 16:05:35 2021\n",
    "\n",
    "@author: Omar\n",
    "\"\"\"\n",
    "\n",
    "\n",
    "import numpy as np\n",
    "import os\n",
    "import csv\n",
    "import pandas as pd\n",
    "\n",
    "\n",
    "\n",
    "if __name__ == '__main__':\n",
    "    print(\"hello world\")\n",
    "    \n",
    "    \n",
    "    headers = []\n",
    "    body = []\n",
    "    with open('train_arabic.csv', 'r',encoding='utf-16-le') as reader:\n",
    "        lines = reader.readlines()\n",
    "        count = 0\n",
    "        for line in lines:\n",
    "            if(count%10000 ==0):\n",
    "                print(\"Finished \"+str(count)+ \"lines\")\n",
    "            if(count == 0):\n",
    "                headers.append(line.split(','))\n",
    "            body.append(line.split(','))\n",
    "            \n",
    "            count += 1\n",
    "    \n",
    "    df = pd.DataFrame(coulmns = headers)"
   ]
  }
 ],
 "metadata": {
  "kernelspec": {
   "display_name": "Python 3",
   "language": "python",
   "name": "python3"
  },
  "language_info": {
   "codemirror_mode": {
    "name": "ipython",
    "version": 3
   },
   "file_extension": ".py",
   "mimetype": "text/x-python",
   "name": "python",
   "nbconvert_exporter": "python",
   "pygments_lexer": "ipython3",
   "version": "3.7.6"
  }
 },
 "nbformat": 4,
 "nbformat_minor": 5
}
