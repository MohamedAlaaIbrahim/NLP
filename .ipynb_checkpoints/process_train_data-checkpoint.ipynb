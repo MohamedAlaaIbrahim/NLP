{
 "cells": [
  {
   "cell_type": "code",
   "execution_count": 1,
   "id": "d758ae86",
   "metadata": {},
   "outputs": [],
   "source": [
    "import numpy as np\n",
    "import os\n",
    "import csv\n",
    "import pandas as pd"
   ]
  },
  {
   "cell_type": "code",
   "execution_count": 2,
   "id": "77d8e13e",
   "metadata": {},
   "outputs": [
    {
     "name": "stdout",
     "output_type": "stream",
     "text": [
      "Finished 0lines\n",
      "Finished 1000lines\n",
      "Finished 2000lines\n",
      "Finished 3000lines\n",
      "Finished 4000lines\n",
      "Finished 5000lines\n",
      "Finished 6000lines\n",
      "Finished 7000lines\n",
      "Finished 8000lines\n",
      "Finished 9000lines\n",
      "Finished 10000lines\n",
      "Finished 0lines\n",
      "Finished 1000lines\n",
      "Finished 2000lines\n",
      "Finished 3000lines\n",
      "Finished 4000lines\n",
      "Finished 5000lines\n",
      "Finished 6000lines\n",
      "Finished 7000lines\n",
      "Finished 8000lines\n",
      "Finished 9000lines\n",
      "Finished 10000lines\n",
      "Finished 0lines\n",
      "Finished 1000lines\n",
      "Finished 2000lines\n",
      "Finished 3000lines\n",
      "Finished 4000lines\n",
      "Finished 5000lines\n",
      "Finished 6000lines\n",
      "Finished 7000lines\n",
      "Finished 8000lines\n",
      "Finished 9000lines\n",
      "Finished 10000lines\n",
      "Finished 0lines\n",
      "Finished 1000lines\n",
      "Finished 2000lines\n",
      "Finished 3000lines\n",
      "Finished 4000lines\n",
      "Finished 5000lines\n",
      "Finished 6000lines\n",
      "Finished 7000lines\n",
      "Finished 8000lines\n",
      "Finished 9000lines\n",
      "Finished 10000lines\n"
     ]
    }
   ],
   "source": [
    "headers = []\n",
    "body = []\n",
    "for i in range(1,5):\n",
    "    with open('processed_train_{}.csv'.format(i), 'r',encoding='utf-8') as reader:\n",
    "        lines = reader.readlines()\n",
    "        count = 0\n",
    "        for line in lines:\n",
    "            if(count%1000 ==0):\n",
    "                print(\"Finished \"+str(count)+ \"lines\")\n",
    "            if(count == 0):\n",
    "                headers.append(line.split(','))\n",
    "            else:\n",
    "                body.append(line.split(','))\n",
    "\n",
    "            count += 1\n",
    "\n",
    "df = pd.DataFrame(data = body,columns = headers[0])"
   ]
  },
  {
   "cell_type": "code",
   "execution_count": null,
   "id": "cad763fd",
   "metadata": {},
   "outputs": [],
   "source": []
  },
  {
   "cell_type": "code",
   "execution_count": null,
   "id": "7797e9e7",
   "metadata": {},
   "outputs": [],
   "source": [
    "i = 0\n",
    "with open(\"train_arabic_processed.csv\", 'w',newline='') as csvfile:\n",
    "    print(\"entered\")\n",
    "    header = headers[0]\n",
    "\n",
    "    # creating a csv writer object \n",
    "    csvwriter = csv.writer(csvfile) \n",
    "    csvwriter.writerow(header)\n",
    "    # writing the fields \n",
    "    for row in body:\n",
    "        if i%100 == 0:\n",
    "            print('finished writing '+str(i)+' setences on the file')\n",
    "        i+=1\n",
    "        row = []\n",
    "        for col in body:\n",
    "            row.append(body)\n",
    "        csvwriter.writerow(row)\n",
    "        \n"
   ]
  },
  {
   "cell_type": "code",
   "execution_count": null,
   "id": "bc7a36fd",
   "metadata": {},
   "outputs": [],
   "source": []
  }
 ],
 "metadata": {
  "kernelspec": {
   "display_name": "Python 3",
   "language": "python",
   "name": "python3"
  },
  "language_info": {
   "codemirror_mode": {
    "name": "ipython",
    "version": 3
   },
   "file_extension": ".py",
   "mimetype": "text/x-python",
   "name": "python",
   "nbconvert_exporter": "python",
   "pygments_lexer": "ipython3",
   "version": "3.7.6"
  }
 },
 "nbformat": 4,
 "nbformat_minor": 5
}
